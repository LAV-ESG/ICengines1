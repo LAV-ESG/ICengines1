{
 "cells": [
  {
   "cell_type": "code",
   "execution_count": 1,
   "metadata": {
    "collapsed": true,
    "extensions": {
     "jupyter_dashboards": {
      "version": 1,
      "views": {
       "grid_default": {
        "hidden": true
       },
       "report_default": {
        "hidden": true
       }
      }
     }
    },
    "nbpresent": {
     "id": "36e06ce7-2e73-43ff-a4a5-a96ea0c6fd02"
    },
    "slideshow": {
     "slide_type": "skip"
    }
   },
   "outputs": [],
   "source": [
    "import seaborn as sns\n",
    "import scipy.optimize\n",
    "import scipy.interpolate\n",
    "from ipywidgets import interact\n",
    "import numpy as np\n",
    "from matplotlib import pyplot as plt\n",
    "%matplotlib inline"
   ]
  },
  {
   "cell_type": "markdown",
   "metadata": {
    "extensions": {
     "jupyter_dashboards": {
      "version": 1,
      "views": {
       "grid_default": {
        "col": 4,
        "height": 4,
        "hidden": false,
        "row": 0,
        "width": 4
       },
       "report_default": {
        "hidden": false
       }
      }
     }
    },
    "nbpresent": {
     "id": "ab1ea196-093e-4028-92bd-af27065be675"
    },
    "slideshow": {
     "slide_type": "slide"
    }
   },
   "source": [
    "## Vehicle definition"
   ]
  },
  {
   "cell_type": "code",
   "execution_count": 2,
   "metadata": {
    "collapsed": true,
    "extensions": {
     "jupyter_dashboards": {
      "version": 1,
      "views": {
       "grid_default": {
        "hidden": true
       },
       "report_default": {
        "hidden": true
       }
      }
     }
    },
    "nbpresent": {
     "id": "7f9caff4-14cb-4112-9989-c715579170d9"
    },
    "slideshow": {
     "slide_type": "fragment"
    }
   },
   "outputs": [],
   "source": [
    "m = 1.4e3  # [kg] - effective vehicle mass\n",
    "c_r = 12e-3  # [-] - tire rolling resistance coefficient\n",
    "c_D = 0.3  # [-] - aerodynamic drag coefficient\n",
    "A_f = 2.2  # [m^2] - frontal area\n",
    "\n",
    "P_max = 100e3  # [W] - maximum powertrain output power\n",
    "mu_max = 1  # [-] - maximum tire adhesion coefficient\n",
    "\n",
    "rho = 1.2  # [kg/m^3] - density of ambient air\n",
    "g = 9.81  # [m/s^2] - earth acceleration"
   ]
  },
  {
   "cell_type": "markdown",
   "metadata": {
    "extensions": {
     "jupyter_dashboards": {
      "version": 1,
      "views": {
       "grid_default": {
        "col": 8,
        "height": 4,
        "hidden": false,
        "row": 0,
        "width": 4
       },
       "report_default": {
        "hidden": false
       }
      }
     }
    },
    "nbpresent": {
     "id": "041ecbc4-e0fe-4d9c-88b8-a82dc1228b1b"
    }
   },
   "source": [
    "# Propulsion power without acceleration"
   ]
  },
  {
   "cell_type": "markdown",
   "metadata": {
    "extensions": {
     "jupyter_dashboards": {
      "version": 1,
      "views": {
       "grid_default": {
        "col": 0,
        "height": 4,
        "hidden": false,
        "row": 4,
        "width": null
       },
       "report_default": {
        "hidden": false
       }
      }
     }
    },
    "nbpresent": {
     "id": "eb05b535-0ae1-4247-bcca-edba455dec8c"
    }
   },
   "source": [
    "The fastest this vehicle can hope to travel on a flat road is when $P = P_{max}$:"
   ]
  },
  {
   "cell_type": "code",
   "execution_count": 3,
   "metadata": {
    "collapsed": false,
    "extensions": {
     "jupyter_dashboards": {
      "version": 1,
      "views": {
       "grid_default": {
        "col": 0,
        "height": 4,
        "hidden": false,
        "row": 8,
        "width": 4
       },
       "report_default": {
        "hidden": false
       }
      }
     }
    },
    "nbpresent": {
     "id": "da7f1eb2-4b58-4476-8392-2f810f98f5bb"
    }
   },
   "outputs": [
    {
     "name": "stdout",
     "output_type": "stream",
     "text": [
      "maximum speed: 219.6 km/h\n"
     ]
    }
   ],
   "source": [
    "def f(v_max):\n",
    "    return (rho * c_D * A_f / 2 * v_max**3 + m * g * c_r * v_max) - P_max\n",
    "ret = scipy.optimize.root(f, 200/3.6)\n",
    "assert ret.success\n",
    "v_max = ret.x[0]\n",
    "print(\"maximum speed: {:.1f} km/h\".format(v_max * 3.6))"
   ]
  },
  {
   "cell_type": "markdown",
   "metadata": {
    "extensions": {
     "jupyter_dashboards": {
      "version": 1,
      "views": {
       "grid_default": {
        "col": 4,
        "height": 4,
        "hidden": false,
        "row": 8,
        "width": null
       },
       "report_default": {
        "hidden": false
       }
      }
     }
    },
    "nbpresent": {
     "id": "7d965f93-5786-413e-9a9f-9013a60889ea"
    }
   },
   "source": [
    "The following is a graphical interpretation of what happens above. Notice that for $v < v_{max}$, we have additional power available - the power margin - that we can use to accelerate. In the next section, we are going to explore how much acceleration this gives us."
   ]
  },
  {
   "cell_type": "code",
   "execution_count": 4,
   "metadata": {
    "collapsed": false,
    "extensions": {
     "jupyter_dashboards": {
      "version": 1,
      "views": {
       "grid_default": {
        "col": 0,
        "height": 9,
        "hidden": false,
        "row": 12,
        "width": 4
       },
       "report_default": {
        "hidden": false
       }
      }
     }
    },
    "nbpresent": {
     "id": "52be06ef-7add-4e85-868c-66d9813b4637"
    }
   },
   "outputs": [
    {
     "data": {
      "image/png": "[encoded data removed]",
      "text/plain": [
       "<matplotlib.figure.Figure at 0x26463364c18>"
      ]
     },
     "metadata": {},
     "output_type": "display_data"
    }
   ],
   "source": [
    "v = np.linspace(0, v_max * 1.05, 100)\n",
    "P_noAcc = rho * c_D * A_f / 2 * v**3 + m * g * c_r * v\n",
    "\n",
    "ax = plt.subplot(111)\n",
    "ax.plot(v*3.6, P_noAcc*1e-3)\n",
    "ax.set_xlabel(\"forward velocity [kph]\")\n",
    "ax.set_ylabel(\"propulsion power [kW]\")\n",
    "\n",
    "ax.plot([0, v[-1]*3.6], np.ones(2) * P_max*1e-3, \":\");"
   ]
  },
  {
   "cell_type": "markdown",
   "metadata": {
    "extensions": {
     "jupyter_dashboards": {
      "version": 1,
      "views": {
       "grid_default": {
        "col": 4,
        "height": 20,
        "hidden": false,
        "row": 12,
        "width": null
       },
       "report_default": {
        "hidden": false
       }
      }
     }
    },
    "nbpresent": {
     "id": "f3d30979-34ab-4d63-ab14-d34224dc5125"
    }
   },
   "source": [
    "## Acceleration reserve\n",
    "\n",
    "Generally we have:\n",
    "$$m \\cdot \\frac{dv(t)}{dt} = F_{prop}(u, v) - F_{aero}\\left(v(t)\\right) - F_{roll}\\left(v(t)\\right)$$\n",
    "where $F_{prop}$ is the modulable force output of the powertrain (symbolized by the control signal $u$, which corresponds to the accelerator setting):\n",
    "$$F_{prop}(u, v) = F_{max}(v, \\ldots) \\cdot u$$\n",
    "where $F_{max}$ is the maximum force the powertrain can produce. As we will see, $F_{max}$ is generally a speed-dependent property - it can also depend on internal states of the powertrain, such as the engine temperature or the battery state of charge. But for now, to keep things lean, we'll assume it's just a constant.\n",
    "\n",
    "On a flat road (and if there is no wind), the minimal power to maintain a constant cruising velocity $v$ is:\n",
    "$$F_{prop} \\cdot v = F_{aero}\\left(v\\right) \\cdot v - F_{roll}\\left(v\\right) \\cdot v$$\n",
    "Just as the force output of the powertrain is limited, so is its poweroutput:\n",
    "$$P_{prop} = F_{prop}(u) \\cdot v(t) \\leq P_{max}$$\n",
    "As long as $P_{prop} < P_{max}$ there is a power reserve, which can be invested into acceleration. If we invest the full margin when cruising at a constant velocity $v$, the maximum acceleration $a_{max}$ the vehicle can produce is given by:\n",
    "$$m \\cdot a_{max} \\cdot v = P_{max} - P_{prop}(v) \\Rightarrow a_{max}(v) = \\frac{P_{max} - P_{prop}(v)}{m \\cdot v}$$\n",
    "\n",
    "At low speeds, another limitation can kick in: the tires can only transmit so much force before they start skidding. The maximum force a tire can transmit in any horizontal direction is expressed through the adhesion coefficient $\\mu_{max}$, defined by:\n",
    "$$\\mu_{max} = \\frac{F_{max}}{m \\cdot g}$$\n",
    "The adhesion coefficient is a property of the tire-road interface; next to the tire, it depends on the nature (e.g. paved vs. gravel roads) and condition (e.g. dry vs. wet) of the road surface. Under ideal conditions, on a clean, dry road with warm tires that are neither worn out nor still running in, $\\mu_{max} \\approx 1$.\n",
    "\n",
    "We thus have an additional constraint:\n",
    "$$F_{prop}(u, v) \\leq m \\cdot g \\cdot \\mu_{max}$$\n",
    "\n",
    "It limits $a_{max}$ through force at low speeds, when the power constraint is not yet active:\n",
    "$$a_{max} = g \\cdot \\mu_{max} - \\frac{1}{m} \\cdot F_{aero}\\left(v(t)\\right) - \\frac{1}{m} \\cdot F_{roll}\\left(v(t)\\right)$$\n",
    "\n",
    "\n",
    "At stand-still this simplifies to:\n",
    "$$a_{max} = (\\mu_{max} - c_r) \\cdot g$$"
   ]
  },
  {
   "cell_type": "code",
   "execution_count": 5,
   "metadata": {
    "collapsed": false,
    "extensions": {
     "jupyter_dashboards": {
      "version": 1,
      "views": {
       "grid_default": {
        "col": 0,
        "height": 10,
        "hidden": false,
        "row": 21,
        "width": 4
       },
       "report_default": {
        "hidden": false
       }
      }
     }
    },
    "nbpresent": {
     "id": "81c12f82-02e7-484c-8c62-bb78b8ab9333"
    }
   },
   "outputs": [
    {
     "data": {
      "text/plain": [
       "(0, 1)"
      ]
     },
     "execution_count": 5,
     "metadata": {},
     "output_type": "execute_result"
    },
    {
     "data": {
      "image/png": "[encoded data removed]",
      "text/plain": [
       "<matplotlib.figure.Figure at 0x26465be8f28>"
      ]
     },
     "metadata": {},
     "output_type": "display_data"
    }
   ],
   "source": [
    "P_reserve = P_max - P_noAcc\n",
    "a_power = P_reserve / m / v\n",
    "\n",
    "a_adhesion = mu_max * g - (rho * c_D * A_f / 2 * v**2) / m - (g * c_r)\n",
    "\n",
    "a_max = np.minimum(a_power, a_adhesion)\n",
    "\n",
    "ax = plt.subplot(111)\n",
    "ax.plot(v*3.6, a_max / g)\n",
    "ax.plot(v*3.6, a_adhesion / g, \":\")\n",
    "ax.fill_between(v*3.6, np.zeros(v.shape), a_max/g, alpha=0.2)\n",
    "\n",
    "ax.set_xlabel(\"forward velocity [kph]\")\n",
    "ax.set_ylabel(\"maximum acceleration [g]\");\n",
    "ax.set_ylim([0, mu_max])"
   ]
  },
  {
   "cell_type": "markdown",
   "metadata": {},
   "source": [
    "For most passenger cars, the power constraint dominates at speeds exceeding some $40\\ldots 50 \\; km/h$. The adhesion limit is thus not so much of a practical concern. With high-performance cars though, the powerful engines push the onset of the power limitation to much higher speeds. In that case, slicks maximize the amount of force closure, and thus directly increase $\\mu_{max}$ (to a certain limit). Beyond that, automotive wings (aerodynamic devices producing downforce, which is not the same as a spoiler) can be used to increase the normal force on the tires."
   ]
  },
  {
   "cell_type": "markdown",
   "metadata": {
    "extensions": {
     "jupyter_dashboards": {
      "version": 1,
      "views": {
       "grid_default": {
        "col": 0,
        "height": 4,
        "hidden": false,
        "row": 32,
        "width": 12
       },
       "report_default": {
        "hidden": false
       }
      }
     }
    },
    "nbpresent": {
     "id": "7f3768e7-996b-481b-81c0-9037ee2cce9f"
    }
   },
   "source": [
    "## Adding an engine map\n",
    "Now in a real system, we have an engine or motor and possibly a gear-box - we will asssume a naturally aspirated gasoline engine in the following. The rotation speeds and the torque output of the engine are limited; in particular is the maximum torque dependent on the rotation speed:"
   ]
  },
  {
   "cell_type": "code",
   "execution_count": 6,
   "metadata": {
    "collapsed": false,
    "extensions": {
     "jupyter_dashboards": {
      "version": 1,
      "views": {
       "grid_default": {
        "col": 0,
        "height": 11,
        "hidden": false,
        "row": 36,
        "width": 4
       },
       "report_default": {
        "hidden": false
       }
      }
     }
    },
    "nbpresent": {
     "id": "a3617d5c-90ae-4eaa-acfe-dca1df6b6cf1"
    }
   },
   "outputs": [
    {
     "name": "stdout",
     "output_type": "stream",
     "text": [
      "engine displacement: 1.80L\n"
     ]
    },
    {
     "data": {
      "text/plain": [
       "(0, 180.0)"
      ]
     },
     "execution_count": 6,
     "metadata": {},
     "output_type": "execute_result"
    },
    {
     "data": {
      "image/png": "[encoded data removed]",
      "text/plain": [
       "<matplotlib.figure.Figure at 0x26465be8cc0>"
      ]
     },
     "metadata": {},
     "output_type": "display_data"
    }
   ],
   "source": [
    "R_dyn = 0.3\n",
    "\n",
    "rpm = np.linspace(700,7000, 100)\n",
    "pme_wot = 5.847 + 3e-3 * rpm - 3.5765e-7 * rpm**2\n",
    "\n",
    "omega = (rpm / 30 * np.pi)\n",
    "\n",
    "def f(V_H):\n",
    "    P_wot = (pme_wot * V_H / 4 / np.pi * 1e5) * omega\n",
    "    return np.max(P_wot) - P_max\n",
    "\n",
    "ret = scipy.optimize.root(f, 5e-3)\n",
    "assert ret.success\n",
    "V_H = ret.x[0]\n",
    "print(\"engine displacement: {:.2f}L\".format(V_H*1e3))\n",
    "    \n",
    "T_wot = pme_wot * V_H / 4 / np.pi * 1e5\n",
    "P_wot = T_wot * omega\n",
    "omega_max = omega[np.argmax(P_wot)]\n",
    "\n",
    "ax = plt.subplot(111)\n",
    "ax.plot(np.hstack((rpm[0], rpm, rpm[-1])), np.hstack((0, T_wot, 0)))\n",
    "ax.set_xlabel(\"engine rotation speed [rpm]\")\n",
    "ax.set_ylabel(\"torque [Nm]\")\n",
    "ax.set_ylim([0, np.ceil(np.max(T_wot)/10)*10])"
   ]
  },
  {
   "cell_type": "markdown",
   "metadata": {
    "extensions": {
     "jupyter_dashboards": {
      "version": 1,
      "views": {
       "grid_default": {
        "col": 4,
        "height": 4,
        "hidden": false,
        "row": 36,
        "width": null
       },
       "report_default": {
        "hidden": false
       }
      }
     }
    },
    "nbpresent": {
     "id": "cab26ade-b451-4742-ad74-21d84e72b0af"
    }
   },
   "source": [
    "This rotation speed is not enough to cover the full range of vehicular motion.\n",
    "Assuming a wheel radius $R_{dyn} = 30 \\; cm$, a direct connection to the wheel would translate the idling and maximum speeds of $700 \\; rpm$ and $7000 \\; rpm$ to:"
   ]
  },
  {
   "cell_type": "code",
   "execution_count": 7,
   "metadata": {
    "collapsed": false,
    "extensions": {
     "jupyter_dashboards": {
      "version": 1,
      "views": {
       "grid_default": {
        "col": 4,
        "height": 4,
        "hidden": false,
        "row": 40,
        "width": 4
       },
       "report_default": {
        "hidden": false
       }
      }
     }
    },
    "nbpresent": {
     "id": "44fa2c47-e4ad-4b0b-b664-f59249d87814"
    }
   },
   "outputs": [
    {
     "name": "stdout",
     "output_type": "stream",
     "text": [
      "wheel spinning at 700 rpm --> 6.11 km/h\n",
      "wheel spinning at 7000 rpm --> 61.09 km/h\n"
     ]
    }
   ],
   "source": [
    "print(\"wheel spinning at 700 rpm --> {:.2f} km/h\".format((700 / 30 * np.pi) * R_dyn / 3.6))\n",
    "print(\"wheel spinning at 7000 rpm --> {:.2f} km/h\".format((7000 / 30 * np.pi) * R_dyn / 3.6))"
   ]
  },
  {
   "cell_type": "markdown",
   "metadata": {
    "extensions": {
     "jupyter_dashboards": {
      "version": 1,
      "views": {
       "grid_default": {
        "col": 8,
        "height": 4,
        "hidden": false,
        "row": 40,
        "width": null
       },
       "report_default": {
        "hidden": false
       }
      }
     }
    },
    "nbpresent": {
     "id": "cc91a091-6c9f-41e0-a584-8bc8cc9de84d"
    }
   },
   "source": [
    "A transmission (of gear ratio $\\gamma$) would allow to shift that range; it enters the above expression as an additional multiplier after $R_{dyn}$:\n",
    "$$v = \\omega \\cdot R_{dyn} \\cdot \\gamma^{-1}$$\n",
    "Now in practice a car in Switzerland has to be able to go at least $120 \\; km/h$ - this would become possible with a gear ratio of:"
   ]
  },
  {
   "cell_type": "code",
   "execution_count": 8,
   "metadata": {
    "collapsed": false,
    "extensions": {
     "jupyter_dashboards": {
      "version": 1,
      "views": {
       "grid_default": {
        "col": 4,
        "height": 4,
        "hidden": false,
        "row": 44,
        "width": 4
       },
       "report_default": {
        "hidden": false
       }
      }
     }
    },
    "nbpresent": {
     "id": "12acf818-3973-4eeb-9f3b-28b3f1719c84"
    }
   },
   "outputs": [
    {
     "data": {
      "text/plain": [
       "6.5973445725385655"
      ]
     },
     "execution_count": 8,
     "metadata": {},
     "output_type": "execute_result"
    }
   ],
   "source": [
    "gamma = (7000 / 30 * np.pi) * R_dyn / (120 / 3.6)\n",
    "gamma"
   ]
  },
  {
   "cell_type": "markdown",
   "metadata": {
    "extensions": {
     "jupyter_dashboards": {
      "version": 1,
      "views": {
       "grid_default": {
        "col": 8,
        "height": 4,
        "hidden": false,
        "row": 44,
        "width": null
       },
       "report_default": {
        "hidden": false
       }
      }
     }
    },
    "nbpresent": {
     "id": "14c9b288-cd7a-4552-94fd-4671ae8128f6"
    }
   },
   "source": [
    "The $700 \\; rpm$ then translate to:"
   ]
  },
  {
   "cell_type": "code",
   "execution_count": 9,
   "metadata": {
    "collapsed": false,
    "extensions": {
     "jupyter_dashboards": {
      "version": 1,
      "views": {
       "grid_default": {
        "col": 0,
        "height": 4,
        "hidden": false,
        "row": 47,
        "width": 4
       },
       "report_default": {
        "hidden": false
       }
      }
     }
    },
    "nbpresent": {
     "id": "8611e6da-e3a7-4bec-aa12-15396137b393"
    }
   },
   "outputs": [
    {
     "data": {
      "text/plain": [
       "12.0"
      ]
     },
     "execution_count": 9,
     "metadata": {},
     "output_type": "execute_result"
    }
   ],
   "source": [
    "(700 / 30 * np.pi) * R_dyn / gamma * 3.6"
   ]
  },
  {
   "cell_type": "markdown",
   "metadata": {
    "extensions": {
     "jupyter_dashboards": {
      "version": 1,
      "views": {
       "grid_default": {
        "col": 4,
        "height": 4,
        "hidden": false,
        "row": 48,
        "width": null
       },
       "report_default": {
        "hidden": false
       }
      }
     }
    },
    "nbpresent": {
     "id": "50115c00-312d-4490-ab4e-97ef5b40c3f6"
    }
   },
   "source": [
    "In principle, speeds below $12 \\; km/h$ could be handled by a clutch. But the engine does more: through its maximum torque line, it adds a new limitation: we are no longer just power-constrained, but also torque constrained. And as can be seen in the diagram below, this would result in quite poor driveability (we extended the torque at minimal rotation speed to $0 \\; km/h$ presuming the action of a clutch: it would transmit torque from the engine to the wheels, with the engine spinning at $700 \\; rpm$; this would be faster than the driveshaft, i.e. power is not being conserved."
   ]
  },
  {
   "cell_type": "code",
   "execution_count": 10,
   "metadata": {
    "collapsed": false,
    "extensions": {
     "jupyter_dashboards": {
      "version": 1,
      "views": {
       "grid_default": {
        "col": 0,
        "height": 10,
        "hidden": false,
        "row": 51,
        "width": 4
       },
       "report_default": {
        "hidden": false
       }
      }
     }
    },
    "nbpresent": {
     "id": "175f5dbe-5933-4290-93e2-970dfe599ef1"
    }
   },
   "outputs": [
    {
     "data": {
      "text/plain": [
       "(0, 1)"
      ]
     },
     "execution_count": 10,
     "metadata": {},
     "output_type": "execute_result"
    },
    {
     "data": {
      "image/png": "[encoded data removed]",
      "text/plain": [
       "<matplotlib.figure.Figure at 0x26465db2128>"
      ]
     },
     "metadata": {},
     "output_type": "display_data"
    }
   ],
   "source": [
    "n_gears = 5\n",
    "\n",
    "ax = plt.subplot(111)\n",
    "ax.plot(v*3.6, a_max / g, \"k:\", alpha=0.2)\n",
    "\n",
    "vv = omega * R_dyn / gamma\n",
    "F_noAcc = rho * c_D * A_f / 2 * vv**2 + m * g * c_r\n",
    "F_reserve = T_wot / R_dyn * gamma  - F_noAcc\n",
    "a = F_reserve / m\n",
    "\n",
    "# extension of operation field under action of a clutch\n",
    "vv = np.hstack((0, vv))  # --> we add the point at zero rotation speed\n",
    "a = np.hstack((a[0], a))  # the same torque can be transmitted, so we get the same acceleration \n",
    "ax.plot(vv*3.6, a / g)\n",
    "\n",
    "ax.fill_between(vv*3.6, np.zeros(vv.shape), a/g, alpha=0.2)\n",
    "\n",
    "ax.set_xlabel(\"forward velocity [kph]\")\n",
    "ax.set_ylabel(\"maximum acceleration [g]\");\n",
    "ax.set_ylim([0, mu_max])"
   ]
  },
  {
   "cell_type": "markdown",
   "metadata": {
    "extensions": {
     "jupyter_dashboards": {
      "version": 1,
      "views": {
       "grid_default": {
        "col": 4,
        "height": 4,
        "hidden": false,
        "row": 52,
        "width": 4
       },
       "report_default": {
        "hidden": false
       }
      }
     }
    },
    "nbpresent": {
     "id": "8d6607ca-5f40-4e5a-94e1-a1ea61d4caf6"
    }
   },
   "source": [
    "The solution, as we are very used to, is to have multiple gears. Here for example, we take the actual gear ratios of the 2012 Volkswagen Golf (Mk7) 1.4 TSI (103 kW) - specs taken from [cars-data.com](http://www.cars-data.com/en/volkswagen-golf-1.4-tsi-140hp-act-comfortline-specs/59566):"
   ]
  },
  {
   "cell_type": "code",
   "execution_count": 11,
   "metadata": {
    "collapsed": false,
    "extensions": {
     "jupyter_dashboards": {
      "version": 1,
      "views": {
       "grid_default": {
        "col": 8,
        "height": 9,
        "hidden": false,
        "row": 52,
        "width": 4
       },
       "report_default": {
        "hidden": false
       }
      }
     }
    },
    "nbpresent": {
     "id": "0710e3a1-0786-4753-807d-42962ba9d322"
    }
   },
   "outputs": [
    {
     "data": {
      "image/png": "[encoded data removed]",
      "text/plain": [
       "<matplotlib.figure.Figure at 0x264633d9fd0>"
      ]
     },
     "metadata": {},
     "output_type": "display_data"
    }
   ],
   "source": [
    "n_gears = 5\n",
    "\n",
    "ax = plt.subplot(111)\n",
    "ax.plot(v*3.6, a_max / g, 'k:', alpha=0.2)\n",
    "\n",
    "gears = np.array([3.78, 2.12, 1.36, 1.03, 0.86, 0.73]) *  3.65\n",
    "\n",
    "a_torque = np.zeros(v.shape) * np.nan  # vector to retain torque-limited maximum acceleration\n",
    "\n",
    "for gamma, color in zip(gears, sns.cubehelix_palette(gears.shape[0])):\n",
    "    vv = omega * R_dyn / gamma\n",
    "    F_noAcc = rho * c_D * A_f / 2 * vv**2 + m * g * c_r\n",
    "    F_reserve = T_wot / R_dyn * gamma  - F_noAcc\n",
    "    a = F_reserve / m\n",
    "    ax.plot(vv*3.6, a / g, color=color, zorder=10)\n",
    "    \n",
    "    # compute new a-max --> interpolate onto 'v' vector\n",
    "    vv = np.hstack((0, vv))\n",
    "    a = np.hstack((a[0], a))\n",
    "    _a = scipy.interpolate.interp1d(vv, a, bounds_error=False)(v)\n",
    "    filt = np.logical_and(~np.isnan(_a), np.isnan(a_torque))  # replace where _a is defined and a_torque has no value yet\n",
    "    a_torque[filt] = _a[filt]\n",
    "\n",
    "ax.plot(v*3.6, a_torque/g, zorder=2)\n",
    "ax.fill_between(v * 3.6, np.zeros(v.shape), a_torque / g, alpha=0.2, zorder=1)\n",
    "    \n",
    "ax.set_xlabel(\"forward velocity [kph]\")\n",
    "ax.set_ylabel(\"maximum acceleration [g]\");\n",
    "ax.set_ylim([0, mu_max]);"
   ]
  },
  {
   "cell_type": "markdown",
   "metadata": {
    "extensions": {
     "jupyter_dashboards": {
      "version": 1,
      "views": {
       "grid_default": {
        "col": 0,
        "height": 10,
        "hidden": false,
        "row": 61,
        "width": null
       },
       "report_default": {
        "hidden": false
       }
      }
     }
    },
    "nbpresent": {
     "id": "480f6f6a-e9a1-499c-adf4-5108b56ff842"
    }
   },
   "source": [
    "In order to be able to play with this model, we'll need to make the gear-ratios self-adjusting to a new vehicle. We'll do so by introducing a simple design heuristic:\n",
    "\n",
    "1. The lowest gear ratio is determined so that the vehicle can cruise at 5 kph without using the clutch, in other words so that we reach an engine speed of $700 \\; rpm$ at a driving speed of $5 \\; km/h$.\n",
    "2. The highest gear is chosen so that the rotation speed where the engine reaches maximum power coincides with the vehicle cruising at its maximum speed $v_{max}$, in other words we want top speed at top gear.\n",
    "\n",
    "Note that Volkswagen chose a slightly different, but very common approach for their design above: top speed is reached in the 5th gear, but can't be reached in the 6th gear. There are two reasons for chosing such an excessively high top gear: for the same speed, the higher gear ratio results in:\n",
    "\n",
    "1. a lower engine rotation speed, improving noise emissions and thus making for a more comfortable ride on long-distance, high speed motorway driving.\n",
    "2. a higher engine load, improving the thermodynamic conversion efficiency."
   ]
  },
  {
   "cell_type": "code",
   "execution_count": 12,
   "metadata": {
    "collapsed": false,
    "extensions": {
     "jupyter_dashboards": {
      "version": 1,
      "views": {
       "grid_default": {
        "col": 0,
        "height": 10,
        "hidden": false,
        "row": 71,
        "width": 4
       },
       "report_default": {
        "hidden": false
       }
      }
     }
    },
    "nbpresent": {
     "id": "0821b57f-3c5e-4d48-b6a0-63a56eab96ae"
    }
   },
   "outputs": [
    {
     "data": {
      "text/plain": [
       "(0, 1)"
      ]
     },
     "execution_count": 12,
     "metadata": {},
     "output_type": "execute_result"
    },
    {
     "data": {
      "image/png": "[encoded data removed]",
      "text/plain": [
       "<matplotlib.figure.Figure at 0x26465bd27f0>"
      ]
     },
     "metadata": {},
     "output_type": "display_data"
    }
   ],
   "source": [
    "n_gears = 5\n",
    "\n",
    "ax = plt.subplot(111)\n",
    "ax.plot(v*3.6, a_max / g)\n",
    "\n",
    "gmax = omega_max * R_dyn / v_max  # highest gear -> set maximum power point to maximum speed\n",
    "gmin = omega[0] * R_dyn / (5/3.6)  # lowest gear -> no clutch at 5 kph\n",
    "r = (gmax / gmin)**(1/(n_gears-1))\n",
    "gears = np.array([gmin * r ** i for i in range(n_gears)])  # geometric progression\n",
    "\n",
    "for gamma, color in zip(gears, sns.cubehelix_palette(gears.shape[0])):\n",
    "    vv = omega * R_dyn / gamma\n",
    "    F_noAcc = rho * c_D * A_f / 2 * vv**2 + m * g * c_r\n",
    "    F_reserve = T_wot / R_dyn * gamma  - F_noAcc\n",
    "    a = F_reserve / m\n",
    "    ax.plot(vv*3.6, a / g, color=color)\n",
    "\n",
    "ax.set_xlabel(\"forward velocity [kph]\")\n",
    "ax.set_ylabel(\"maximum acceleration [g]\");\n",
    "ax.set_ylim([0, mu_max])"
   ]
  },
  {
   "cell_type": "markdown",
   "metadata": {
    "extensions": {
     "jupyter_dashboards": {
      "version": 1,
      "views": {
       "grid_default": {
        "col": 4,
        "height": 4,
        "hidden": false,
        "row": 56,
        "width": 4
       },
       "report_default": {
        "hidden": false
       }
      }
     }
    },
    "nbpresent": {
     "id": "a1e3c390-49a2-4dc2-9b9d-27239722d92d"
    }
   },
   "source": [
    "## Influence of the shape of the full-load line"
   ]
  },
  {
   "cell_type": "markdown",
   "metadata": {
    "extensions": {
     "jupyter_dashboards": {
      "version": 1,
      "views": {
       "grid_default": {
        "col": 4,
        "height": 4,
        "hidden": false,
        "row": 71,
        "width": 4
       },
       "report_default": {
        "hidden": false
       }
      }
     }
    },
    "nbpresent": {
     "id": "4b3e875a-d0c7-4444-ba9f-dde795dbdc5e"
    }
   },
   "source": [
    "### turbo-charged engines (incl. diesel engines)"
   ]
  },
  {
   "cell_type": "code",
   "execution_count": 13,
   "metadata": {
    "collapsed": false,
    "extensions": {
     "jupyter_dashboards": {
      "version": 1,
      "views": {
       "grid_default": {
        "col": 8,
        "height": 10,
        "hidden": false,
        "row": 71,
        "width": 4
       },
       "report_default": {
        "hidden": false
       }
      }
     }
    },
    "nbpresent": {
     "id": "14dbccf3-4464-493a-b6ef-36f1587120be"
    }
   },
   "outputs": [
    {
     "data": {
      "text/plain": [
       "(0, 280.0)"
      ]
     },
     "execution_count": 13,
     "metadata": {},
     "output_type": "execute_result"
    },
    {
     "data": {
      "image/png": "[encoded data removed]",
      "text/plain": [
       "<matplotlib.figure.Figure at 0x26465db2278>"
      ]
     },
     "metadata": {},
     "output_type": "display_data"
    }
   ],
   "source": [
    "omega = np.linspace(800, 5500, 100) / 30 * np.pi\n",
    "T_wot = scipy.interpolate.interp1d([800, 1750, 2500, 4000, 4200, 4500, 6000],\n",
    "                                   [180, 350, 350, 300, 285, 250, 50])(omega * 30 / np.pi)\n",
    "T_wot *= P_max / np.max(omega * T_wot)  # scale to ensure P_max\n",
    "\n",
    "\n",
    "ax = plt.subplot(111)\n",
    "ax.plot(np.hstack((omega[0], omega, omega[-1])) * 30 / np.pi, np.hstack((0, T_wot, 0)))\n",
    "ax.set_xlabel(\"engine rotation speed [rpm]\")\n",
    "ax.set_ylabel(\"torque [Nm]\")\n",
    "ax.set_ylim([0, np.ceil(np.max(T_wot)/10)*10])"
   ]
  },
  {
   "cell_type": "code",
   "execution_count": 14,
   "metadata": {
    "collapsed": false,
    "extensions": {
     "jupyter_dashboards": {
      "version": 1,
      "views": {
       "grid_default": {
        "col": 4,
        "height": 10,
        "hidden": false,
        "row": 75,
        "width": 4
       },
       "report_default": {
        "hidden": false
       }
      }
     }
    },
    "nbpresent": {
     "id": "6a9eddea-c5c7-49b7-bc4b-cabdba93e036"
    }
   },
   "outputs": [
    {
     "data": {
      "text/plain": [
       "(0, 1)"
      ]
     },
     "execution_count": 14,
     "metadata": {},
     "output_type": "execute_result"
    },
    {
     "data": {
      "image/png": "[encoded data removed]",
      "text/plain": [
       "<matplotlib.figure.Figure at 0x26465db2fd0>"
      ]
     },
     "metadata": {},
     "output_type": "display_data"
    }
   ],
   "source": [
    "ax = plt.subplot(111)\n",
    "ax.plot(v*3.6, a_max / g)\n",
    "\n",
    "gears = np.array([3.78, 2.12, 1.36, 1.03, 0.86, 0.73]) *  3.65\n",
    "\n",
    "for gamma, color in zip(gears, sns.cubehelix_palette(gears.shape[0])):\n",
    "    vv = omega * R_dyn / gamma\n",
    "    F_noAcc = rho * c_D * A_f / 2 * vv**2 + m * g * c_r\n",
    "    F_reserve = T_wot / R_dyn * gamma  - F_noAcc\n",
    "    a = F_reserve / m\n",
    "    ax.plot(vv*3.6, a / g, color=color)\n",
    "\n",
    "ax.set_xlabel(\"forward velocity [kph]\")\n",
    "ax.set_ylabel(\"maximum acceleration [g]\");\n",
    "ax.set_ylim([0, mu_max])"
   ]
  },
  {
   "cell_type": "markdown",
   "metadata": {
    "extensions": {
     "jupyter_dashboards": {
      "version": 1,
      "views": {
       "grid_default": {
        "col": 0,
        "height": 4,
        "hidden": false,
        "row": 81,
        "width": 4
       },
       "report_default": {
        "hidden": false
       }
      }
     }
    },
    "nbpresent": {
     "id": "99dd4411-8255-4c00-b00e-941373dbe67a"
    }
   },
   "source": [
    "### electric machinery"
   ]
  },
  {
   "cell_type": "markdown",
   "metadata": {
    "extensions": {
     "jupyter_dashboards": {
      "version": 1,
      "views": {
       "grid_default": {
        "col": 8,
        "height": 4,
        "hidden": false,
        "row": 81,
        "width": 4
       },
       "report_default": {
        "hidden": false
       }
      }
     }
    },
    "nbpresent": {
     "id": "138206af-f252-4717-a9fd-01878ac9059a"
    }
   },
   "source": [
    "The full-load line of electric machinery is virtually independent of the rotation speed to the point where the engine reaches its nominal peak-power. Then, the power-constraint induces a hyperbolic shape:"
   ]
  },
  {
   "cell_type": "code",
   "execution_count": 61,
   "metadata": {
    "collapsed": false,
    "extensions": {
     "jupyter_dashboards": {
      "version": 1,
      "views": {
       "grid_default": {
        "col": 0,
        "height": 10,
        "hidden": false,
        "row": 85,
        "width": 4
       },
       "report_default": {
        "hidden": false
       }
      }
     }
    },
    "nbpresent": {
     "id": "2eaf358c-63f9-4e51-aab8-27540d851a02"
    }
   },
   "outputs": [
    {
     "data": {
      "text/plain": [
       "(0, 300.0)"
      ]
     },
     "execution_count": 61,
     "metadata": {},
     "output_type": "execute_result"
    },
    {
     "data": {
      "image/png": "[encoded data removed]",
      "text/plain": [
       "<matplotlib.figure.Figure at 0x26468e155f8>"
      ]
     },
     "metadata": {},
     "output_type": "display_data"
    }
   ],
   "source": [
    "omega = np.linspace(0, 10000, 100) / 30 * np.pi\n",
    "T_wot = np.ones(100) * 300\n",
    "filt = T_wot * omega > 80e3\n",
    "T_wot[filt] = 80e3 / omega[filt]\n",
    "\n",
    "ax = plt.subplot(111)\n",
    "ax.plot(np.hstack((0, omega, omega[-1])) * 30/np.pi, np.hstack((0, T_wot, 0)))\n",
    "ax.set_xlabel(\"engine rotation speed [rpm]\")\n",
    "ax.set_ylabel(\"torque [Nm]\")\n",
    "ax.set_ylim([0, np.ceil(np.max(T_wot)/10)*10])"
   ]
  },
  {
   "cell_type": "markdown",
   "metadata": {
    "extensions": {
     "jupyter_dashboards": {
      "version": 1,
      "views": {
       "grid_default": {
        "col": 0,
        "height": 4,
        "hidden": false,
        "row": 95,
        "width": 12
       },
       "report_default": {
        "hidden": false
       }
      }
     }
    },
    "nbpresent": {
     "id": "e1ee8469-f347-441e-98cb-9a3882ba789f"
    }
   },
   "source": [
    "The electric machine can be coupled directly to the wheel, as it is able to produce torque at zero rotation speed. Still, a single-stage transmission is necessary to adjust the motor rotation speed spectrum to the needs of the vehicle:"
   ]
  },
  {
   "cell_type": "code",
   "execution_count": 16,
   "metadata": {
    "collapsed": false,
    "extensions": {
     "jupyter_dashboards": {
      "version": 1,
      "views": {
       "grid_default": {
        "col": 4,
        "height": 10,
        "hidden": false,
        "row": 85,
        "width": 4
       },
       "report_default": {
        "hidden": false
       }
      }
     }
    },
    "nbpresent": {
     "id": "154c1da5-5f7c-407c-8f9d-718041ac61b1"
    }
   },
   "outputs": [
    {
     "data": {
      "text/plain": [
       "(0, 1)"
      ]
     },
     "execution_count": 16,
     "metadata": {},
     "output_type": "execute_result"
    },
    {
     "data": {
      "image/png": "[encoded data removed]",
      "text/plain": [
       "<matplotlib.figure.Figure at 0x26465fecf98>"
      ]
     },
     "metadata": {},
     "output_type": "display_data"
    }
   ],
   "source": [
    "gamma = omega[-1] * R_dyn / v_max  # set ratio so that maximum engine speed reached at vehicle's top speed\n",
    "\n",
    "ax = plt.subplot(111)\n",
    "ax.plot(v*3.6, a_max / g, \"k:\", alpha=0.2)\n",
    "\n",
    "vv = omega * R_dyn / gamma\n",
    "F_noAcc = rho * c_D * A_f / 2 * vv**2 + m * g * c_r\n",
    "F_reserve = T_wot / R_dyn * gamma  - F_noAcc\n",
    "a = F_reserve / m\n",
    "\n",
    "# extension of operation field under action of a clutch\n",
    "vv = np.hstack((0, vv))  # --> we add the point at zero rotation speed\n",
    "a = np.hstack((a[0], a))  # the same torque can be transmitted, so we get the same acceleration \n",
    "ax.plot(vv*3.6, a / g)\n",
    "\n",
    "ax.fill_between(vv*3.6, np.zeros(vv.shape), a/g, alpha=0.2)\n",
    "\n",
    "ax.set_xlabel(\"forward velocity [kph]\")\n",
    "ax.set_ylabel(\"maximum acceleration [g]\");\n",
    "ax.set_ylim([0, mu_max])"
   ]
  },
  {
   "cell_type": "code",
   "execution_count": null,
   "metadata": {
    "collapsed": true,
    "extensions": {
     "jupyter_dashboards": {
      "version": 1,
      "views": {
       "grid_default": {
        "hidden": true
       },
       "report_default": {
        "hidden": true
       }
      }
     }
    },
    "nbpresent": {
     "id": "3a799d2f-e1f6-4bb0-9fe6-df037ca0838b"
    }
   },
   "outputs": [],
   "source": []
  },
  {
   "cell_type": "markdown",
   "metadata": {
    "extensions": {
     "jupyter_dashboards": {
      "version": 1,
      "views": {
       "grid_default": {
        "col": 8,
        "height": 4,
        "hidden": false,
        "row": 85,
        "width": 4
       },
       "report_default": {
        "hidden": false
       }
      }
     }
    },
    "nbpresent": {
     "id": "d144f906-150e-438c-affe-8f6665b7b132"
    }
   },
   "source": [
    "# Putting it all into a dynamic function"
   ]
  },
  {
   "cell_type": "code",
   "execution_count": 115,
   "metadata": {
    "collapsed": false,
    "extensions": {
     "jupyter_dashboards": {
      "version": 1,
      "views": {
       "grid_default": {
        "col": 0,
        "height": 9,
        "hidden": false,
        "row": 99,
        "width": 4
       },
       "report_default": {
        "hidden": false
       }
      }
     }
    },
    "nbpresent": {
     "id": "6ca49101-ac7b-493a-bd8d-b464025e1ce0"
    },
    "scrolled": false
   },
   "outputs": [
    {
     "data": {
      "image/png": "[encoded data removed]",
      "text/plain": [
       "<matplotlib.figure.Figure at 0x26468fc13c8>"
      ]
     },
     "metadata": {},
     "output_type": "display_data"
    }
   ],
   "source": [
    "@interact(P_max=(10, 600, 5), m=(500, 40e3, 100), n_gears=(1, 8, 1), engine=[\"naturally aspirated\", \"turbocharged\", \"electric\"])\n",
    "def plot(P_max=75, m=1.4e3,n_gears=5, engine=\"naturally aspirated\", scale_by_volume=False):\n",
    "    P_max *= 1e3\n",
    "    height = 160e-2\n",
    "             \n",
    "    c_r = 12e-3\n",
    "    c_D = 0.27\n",
    "    A = 2*height\n",
    "    A_f = 2-1.23069 + 11e-5*m + 1.304851*A -0.05398*A**2\n",
    "    mu_max = 1.0\n",
    "    R_dyn = 0.3\n",
    "    \n",
    "    rho = 1.2\n",
    "    g = 9.81\n",
    "    \n",
    "    # determine maximum speed\n",
    "    def f(v_max):\n",
    "        return (rho * c_D * A_f / 2 * v_max**3 + m * g * c_r * v_max) - P_max\n",
    "    ret = scipy.optimize.root(f, 200/3.6)\n",
    "    assert ret.success\n",
    "    v_max = ret.x[0]\n",
    "    \n",
    "    # maximum acceleration line due to power and grip limitation\n",
    "    v = np.linspace(0, v_max, 100)\n",
    "    P_noAcc = rho * c_D * A_f / 2 * v**3 + m * g * c_r * v\n",
    "    a_power = (P_max - P_noAcc) / m / v\n",
    "    a_adhesion = mu_max * g - (rho * c_D * A_f / 2 * v**2) / m - (g * c_r)\n",
    "    a_max = np.minimum(a_power, a_adhesion)\n",
    "   \n",
    "    # size the engine\n",
    "    if engine == \"naturally aspirated\":\n",
    "        rpm = np.linspace(700,7000, 100)\n",
    "        pme_wot = 5.847 + 3e-3 * rpm - 3.5765e-7 * rpm**2\n",
    "        omega = (rpm / 30 * np.pi)\n",
    "        T_wot = pme_wot * 1.8e-3 / 4 / np.pi * 1e5\n",
    "    \n",
    "    elif engine == \"electric\":\n",
    "        omega = np.linspace(0, 9000, 100) / 30 * np.pi\n",
    "        T_wot = np.ones(100) * 280  # roughly the nissan leaf's traction motor \n",
    "        filt = T_wot * omega > 80e3\n",
    "        T_wot[filt] = 80e3 / omega[filt]\n",
    "    \n",
    "    elif engine == \"turbocharged\":\n",
    "        omega = np.linspace(800, 5500, 100) / 30 * np.pi\n",
    "        T_wot = scipy.interpolate.interp1d([800, 1750, 2500, 4000, 4200, 4500, 6000],\n",
    "                                           [180, 350, 350, 300, 285, 250, 50])(omega * 30 / np.pi) \n",
    "    else:\n",
    "        raise ValueError(\"unknown engine\")\n",
    "        \n",
    "    # scale to P_max - scaling by volume\n",
    "    _gamma = P_max / np.max(omega * T_wot)\n",
    "    if scale_by_volume:  # use \"Ähnlichkeitsbeziehungen\"\n",
    "        T_wot *=  _gamma**(3/2)\n",
    "        omega /= np.sqrt(_gamma)\n",
    "    else:  # equiv. to increasing the number of cylinders (or bmep) \n",
    "        T_wot *= _gamma         \n",
    "        \n",
    "    # speed at nominal power (deal with el. machinery, where the maximum is a line, not a point)\n",
    "    idx = np.nonzero(np.isclose(omega * T_wot, np.max(omega * T_wot)))[0][-1]  # chose highest speed\n",
    "    omega_max = omega[idx]\n",
    "    \n",
    "    # design the gear-box\n",
    "    gmax = omega_max * R_dyn / v_max  # highest gear -> set maximum power point to maximum speed\n",
    "    alpha_max = np.arctan(0.44)  # be able to drive away in a 44% slope (results in an \"accel. equiv.\" of ~0.4)\n",
    "    gmin =  m * g * (c_r * np.cos(alpha_max)  + np.sin(alpha_max)) / T_wot[0] * R_dyn\n",
    "    gmin_bis = omega[0] * R_dyn / (4/3.6) # lowest gear -> no clutch at 4 kph\n",
    "    gmin = gmin_bis if gmin_bis > gmin else gmin \n",
    "    r = (gmax / gmin)**(1/(n_gears-1)) if n_gears > 1 else 1\n",
    "    gears = np.array([gmin * r ** i for i in range(n_gears)])  # geometric progression\n",
    "\n",
    "    ax = plt.subplot(111)\n",
    "    ax.plot(v*3.6, a_max / g, \"k\", alpha=0.2)\n",
    "    \n",
    "    for gamma, color in zip(gears, sns.cubehelix_palette(gears.shape[0])):\n",
    "        vv = omega * R_dyn / gamma\n",
    "        F_noAcc = rho * c_D * A_f / 2 * vv**2 + m * g * c_r\n",
    "        F_reserve = T_wot / R_dyn * gamma  - F_noAcc\n",
    "        aa = scipy.interpolate.interp1d(v, a_max, bounds_error=False)(vv)\n",
    "        a = np.minimum(F_reserve / m, aa)\n",
    "        ax.plot(vv*3.6, a / g, color=color)\n",
    "\n",
    "    ax.set_xlabel(\"forward velocity [kph]\")\n",
    "    ax.set_ylabel(\"maximum acceleration [g]\");\n",
    "    ax.set_ylim([0, mu_max])\n",
    "    ax.set_xlim([0, 250])"
   ]
  },
  {
   "cell_type": "code",
   "execution_count": 89,
   "metadata": {
    "collapsed": false,
    "extensions": {
     "jupyter_dashboards": {
      "version": 1,
      "views": {
       "grid_default": {
        "col": 8,
        "height": 4,
        "hidden": false,
        "row": 89,
        "width": 4
       },
       "report_default": {}
      }
     }
    },
    "nbpresent": {
     "id": "5ae415c3-16de-4cff-8918-138ed6d53003"
    }
   },
   "outputs": [
    {
     "data": {
      "text/plain": [
       "0.40273861426601693"
      ]
     },
     "execution_count": 89,
     "metadata": {},
     "output_type": "execute_result"
    }
   ],
   "source": [
    "np.sin(np.arctan(0.44))"
   ]
  },
  {
   "cell_type": "code",
   "execution_count": 86,
   "metadata": {
    "collapsed": false,
    "extensions": {
     "jupyter_dashboards": {
      "version": 1,
      "views": {
       "grid_default": {
        "col": 4,
        "height": 4,
        "hidden": false,
        "row": 99,
        "width": 4
       },
       "report_default": {}
      }
     }
    },
    "nbpresent": {
     "id": "f9b5b980-f9b4-4946-bf63-8ec13680bccb"
    }
   },
   "outputs": [
    {
     "data": {
      "text/plain": [
       "0.43643578047198484"
      ]
     },
     "execution_count": 86,
     "metadata": {},
     "output_type": "execute_result"
    }
   ],
   "source": [
    "np.tan(np.arcsin(0.4))"
   ]
  },
  {
   "cell_type": "code",
   "execution_count": 32,
   "metadata": {
    "collapsed": true,
    "extensions": {
     "jupyter_dashboards": {
      "version": 1,
      "views": {
       "grid_default": {
        "hidden": true
       },
       "report_default": {}
      }
     }
    },
    "nbpresent": {
     "id": "1f9b38d1-12f9-424b-8cf7-fcf9c77de44f"
    }
   },
   "outputs": [],
   "source": [
    "        omega = np.linspace(0, 10000, 100) / 30 * np.pi\n",
    "        T_wot = np.ones(100) * 250\n",
    "        filt = T_wot * omega > 100e3\n",
    "        T_wot[filt] = P_max / omega[filt]"
   ]
  },
  {
   "cell_type": "code",
   "execution_count": 41,
   "metadata": {
    "collapsed": false,
    "extensions": {
     "jupyter_dashboards": {
      "version": 1,
      "views": {
       "grid_default": {
        "hidden": true
       },
       "report_default": {
        "hidden": true
       }
      }
     }
    },
    "nbpresent": {
     "id": "4b408f2a-f59c-4901-9a82-ffb0f31e7f68"
    }
   },
   "outputs": [
    {
     "data": {
      "text/plain": [
       "array([38, 39, 40, 41, 42, 43, 44, 45, 46, 47, 48, 49, 50, 51, 52, 53, 54,\n",
       "       55, 56, 57, 58, 59, 60, 61, 62, 63, 64, 65, 66, 67, 68, 69, 70, 71,\n",
       "       72, 73, 74, 75, 76, 77, 78, 79, 80, 81, 82, 83, 84, 85, 86, 87, 88,\n",
       "       89, 90, 91, 92, 93, 94, 95, 96, 97, 98, 99], dtype=int64)"
      ]
     },
     "execution_count": 41,
     "metadata": {},
     "output_type": "execute_result"
    }
   ],
   "source": [
    "np.nonzero(np.isclose(omega * T_wot, np.max(omega * T_wot)))[0]"
   ]
  },
  {
   "cell_type": "code",
   "execution_count": 39,
   "metadata": {
    "collapsed": false,
    "extensions": {
     "jupyter_dashboards": {
      "version": 1,
      "views": {
       "grid_default": {
        "col": 8,
        "height": 10,
        "hidden": false,
        "row": 99,
        "width": 4
       },
       "report_default": {}
      }
     }
    },
    "nbpresent": {
     "id": "ba8b0f6c-124d-4898-a811-c5c9d9d849ea"
    }
   },
   "outputs": [
    {
     "data": {
      "text/plain": [
       "[<matplotlib.lines.Line2D at 0x264664fccf8>]"
      ]
     },
     "execution_count": 39,
     "metadata": {},
     "output_type": "execute_result"
    },
    {
     "data": {
      "image/png": "[encoded data removed]",
      "text/plain": [
       "<matplotlib.figure.Figure at 0x2646678bd68>"
      ]
     },
     "metadata": {},
     "output_type": "display_data"
    }
   ],
   "source": [
    "plt.plot(omega * T_wot)"
   ]
  },
  {
   "cell_type": "code",
   "execution_count": null,
   "metadata": {
    "collapsed": true,
    "extensions": {
     "jupyter_dashboards": {
      "version": 1,
      "views": {
       "grid_default": {
        "hidden": true
       },
       "report_default": {}
      }
     }
    },
    "nbpresent": {
     "id": "569e0a3c-e215-4e2b-8305-545ec275c89e"
    }
   },
   "outputs": [],
   "source": []
  }
 ],
 "metadata": {
  "anaconda-cloud": {},
  "extensions": {
   "jupyter_dashboards": {
    "activeView": "grid_default",
    "version": 1,
    "views": {
     "grid_default": {
      "cellMargin": 10,
      "defaultCellHeight": 20,
      "maxColumns": 12,
      "name": "grid",
      "type": "grid"
     },
     "report_default": {
      "name": "report",
      "type": "report"
     }
    }
   }
  },
  "kernelspec": {
   "display_name": "Python [default]",
   "language": "python",
   "name": "python3"
  },
  "language_info": {
   "codemirror_mode": {
    "name": "ipython",
    "version": 3
   },
   "file_extension": ".py",
   "mimetype": "text/x-python",
   "name": "python",
   "nbconvert_exporter": "python",
   "pygments_lexer": "ipython3",
   "version": "3.5.2"
  },
  "nbpresent": {
   "slides": {
    "1054078c-67d3-46ec-86a1-3b66f8d60c39": {
     "id": "1054078c-67d3-46ec-86a1-3b66f8d60c39",
     "prev": null,
     "regions": {
      "a668e651-9888-4ca6-add4-4e8388e41785": {
       "attrs": {
        "height": 0.8,
        "width": 0.8,
        "x": 0.1,
        "y": 0.1
       },
       "content": {
        "cell": "ab1ea196-093e-4028-92bd-af27065be675",
        "part": "whole"
       },
       "id": "a668e651-9888-4ca6-add4-4e8388e41785"
      }
     }
    },
    "4ec367dd-b475-4929-9a9d-6951bd3720fe": {
     "id": "4ec367dd-b475-4929-9a9d-6951bd3720fe",
     "prev": "1054078c-67d3-46ec-86a1-3b66f8d60c39",
     "regions": {
      "00892d75-d7d0-4739-b2a2-0c292ba71db7": {
       "attrs": {
        "height": 0.4,
        "width": 0.8,
        "x": 0.1,
        "y": 0.5
       },
       "content": {
        "cell": "5ae415c3-16de-4cff-8918-138ed6d53003",
        "part": "whole"
       },
       "id": "00892d75-d7d0-4739-b2a2-0c292ba71db7"
      },
      "00f199d5-0a13-4772-82eb-d6d7985dd11c": {
       "attrs": {
        "height": 0.4,
        "width": 0.8,
        "x": 0.1,
        "y": 0.5
       },
       "content": {
        "cell": "99dd4411-8255-4c00-b00e-941373dbe67a",
        "part": "whole"
       },
       "id": "00f199d5-0a13-4772-82eb-d6d7985dd11c"
      },
      "04d1f7db-b2ef-4c05-9599-d2ccdf88801b": {
       "attrs": {
        "height": 0.4,
        "width": 0.8,
        "x": 0.1,
        "y": 0.5
       },
       "content": {
        "cell": "cab26ade-b451-4742-ad74-21d84e72b0af",
        "part": "whole"
       },
       "id": "04d1f7db-b2ef-4c05-9599-d2ccdf88801b"
      },
      "0d3d5203-8e9f-4bae-97ea-288628557890": {
       "attrs": {
        "height": 0.4,
        "width": 0.8,
        "x": 0.1,
        "y": 0.5
       },
       "content": {
        "cell": "44fa2c47-e4ad-4b0b-b664-f59249d87814",
        "part": "whole"
       },
       "id": "0d3d5203-8e9f-4bae-97ea-288628557890"
      },
      "12353a7b-5d8b-4939-bb53-ca961da1778e": {
       "attrs": {
        "height": 0.4,
        "width": 0.8,
        "x": 0.1,
        "y": 0.5
       },
       "content": {
        "cell": "81c12f82-02e7-484c-8c62-bb78b8ab9333",
        "part": "whole"
       },
       "id": "12353a7b-5d8b-4939-bb53-ca961da1778e"
      },
      "127025f3-e13c-4eb7-ac5b-6b952b309c94": {
       "attrs": {
        "height": 0.4,
        "width": 0.8,
        "x": 0.1,
        "y": 0.5
       },
       "content": {
        "cell": "6ca49101-ac7b-493a-bd8d-b464025e1ce0",
        "part": "whole"
       },
       "id": "127025f3-e13c-4eb7-ac5b-6b952b309c94"
      },
      "3a7cf31d-acfd-4b64-af69-b1974a91c19c": {
       "attrs": {
        "height": 0.4,
        "width": 0.8,
        "x": 0.1,
        "y": 0.5
       },
       "content": {
        "cell": "d144f906-150e-438c-affe-8f6665b7b132",
        "part": "whole"
       },
       "id": "3a7cf31d-acfd-4b64-af69-b1974a91c19c"
      },
      "44719f91-ed52-436f-96ac-0387becb4d85": {
       "attrs": {
        "height": 0.4,
        "width": 0.8,
        "x": 0.1,
        "y": 0.5
       },
       "content": {
        "cell": "480f6f6a-e9a1-499c-adf4-5108b56ff842",
        "part": "whole"
       },
       "id": "44719f91-ed52-436f-96ac-0387becb4d85"
      },
      "4971133c-cc71-4f99-8bd0-e90e958c0967": {
       "attrs": {
        "height": 0.4,
        "width": 0.8,
        "x": 0.1,
        "y": 0.5
       },
       "content": {
        "cell": "6a9eddea-c5c7-49b7-bc4b-cabdba93e036",
        "part": "whole"
       },
       "id": "4971133c-cc71-4f99-8bd0-e90e958c0967"
      },
      "5000f245-ec5d-4afa-85ef-3f858a8aa1d7": {
       "attrs": {
        "height": 0.4,
        "width": 0.8,
        "x": 0.1,
        "y": 0.5
       },
       "content": {
        "cell": "a1e3c390-49a2-4dc2-9b9d-27239722d92d",
        "part": "whole"
       },
       "id": "5000f245-ec5d-4afa-85ef-3f858a8aa1d7"
      },
      "538f04a8-ef77-4cb0-b852-bbc5a734e916": {
       "attrs": {
        "height": 0.4,
        "width": 0.8,
        "x": 0.1,
        "y": 0.5
       },
       "content": {
        "cell": "cc91a091-6c9f-41e0-a584-8bc8cc9de84d",
        "part": "whole"
       },
       "id": "538f04a8-ef77-4cb0-b852-bbc5a734e916"
      },
      "5528b9cf-87a0-41b0-9be8-136a105a1fda": {
       "attrs": {
        "height": 0.4,
        "width": 0.8,
        "x": 0.1,
        "y": 0.5
       },
       "content": {
        "cell": "4b3e875a-d0c7-4444-ba9f-dde795dbdc5e",
        "part": "whole"
       },
       "id": "5528b9cf-87a0-41b0-9be8-136a105a1fda"
      },
      "5a44c64d-af4f-42b8-ae8f-9884f812b0a2": {
       "attrs": {
        "height": 0.4,
        "width": 0.8,
        "x": 0.1,
        "y": 0.5
       },
       "content": {
        "cell": "a3617d5c-90ae-4eaa-acfe-dca1df6b6cf1",
        "part": "whole"
       },
       "id": "5a44c64d-af4f-42b8-ae8f-9884f812b0a2"
      },
      "6d5f1b35-31f5-4ab3-8829-97c6b941aadd": {
       "attrs": {
        "height": 0.4,
        "width": 0.8,
        "x": 0.1,
        "y": 0.5
       },
       "content": {
        "cell": "175f5dbe-5933-4290-93e2-970dfe599ef1",
        "part": "whole"
       },
       "id": "6d5f1b35-31f5-4ab3-8829-97c6b941aadd"
      },
      "6da42b41-8857-49cc-9184-b73554a95130": {
       "attrs": {
        "height": 0.4,
        "width": 0.8,
        "x": 0.1,
        "y": 0.5
       },
       "content": {
        "cell": "138206af-f252-4717-a9fd-01878ac9059a",
        "part": "whole"
       },
       "id": "6da42b41-8857-49cc-9184-b73554a95130"
      },
      "6f41d1bd-6f37-4760-871a-4387e0e3110f": {
       "attrs": {
        "height": 0.4,
        "width": 0.8,
        "x": 0.1,
        "y": 0.5
       },
       "content": {
        "cell": "14dbccf3-4464-493a-b6ef-36f1587120be",
        "part": "whole"
       },
       "id": "6f41d1bd-6f37-4760-871a-4387e0e3110f"
      },
      "76e7e9d0-0034-4a99-a753-1173b0a01da8": {
       "attrs": {
        "height": 0.4,
        "width": 0.8,
        "x": 0.1,
        "y": 0.5
       },
       "content": {
        "cell": "14c9b288-cd7a-4552-94fd-4671ae8128f6",
        "part": "whole"
       },
       "id": "76e7e9d0-0034-4a99-a753-1173b0a01da8"
      },
      "7e7d7865-1515-4788-9aff-67c6cd62569f": {
       "attrs": {
        "height": 0.4,
        "width": 0.8,
        "x": 0.1,
        "y": 0.5
       },
       "content": {
        "cell": "3a799d2f-e1f6-4bb0-9fe6-df037ca0838b",
        "part": "whole"
       },
       "id": "7e7d7865-1515-4788-9aff-67c6cd62569f"
      },
      "8fd8ff28-1c58-49e9-b194-8982ee26bc7a": {
       "attrs": {
        "height": 0.4,
        "width": 0.8,
        "x": 0.1,
        "y": 0.5
       },
       "content": {
        "cell": "1f9b38d1-12f9-424b-8cf7-fcf9c77de44f",
        "part": "whole"
       },
       "id": "8fd8ff28-1c58-49e9-b194-8982ee26bc7a"
      },
      "9f681a16-77ff-4447-94f2-7f9c8528967a": {
       "attrs": {
        "height": 0.4,
        "width": 0.8,
        "x": 0.1,
        "y": 0.5
       },
       "content": {
        "cell": "154c1da5-5f7c-407c-8f9d-718041ac61b1",
        "part": "whole"
       },
       "id": "9f681a16-77ff-4447-94f2-7f9c8528967a"
      },
      "ab46dbfb-8109-4307-9664-0ac416ba8f02": {
       "attrs": {
        "height": 0.4,
        "width": 0.8,
        "x": 0.1,
        "y": 0.5
       },
       "content": {
        "cell": "8d6607ca-5f40-4e5a-94e1-a1ea61d4caf6",
        "part": "whole"
       },
       "id": "ab46dbfb-8109-4307-9664-0ac416ba8f02"
      },
      "ad709812-8a92-4058-a100-ebaca27b432f": {
       "attrs": {
        "height": 0.4,
        "width": 0.8,
        "x": 0.1,
        "y": 0.5
       },
       "content": {
        "cell": "52be06ef-7add-4e85-868c-66d9813b4637",
        "part": "whole"
       },
       "id": "ad709812-8a92-4058-a100-ebaca27b432f"
      },
      "b55fa4b0-aafb-41ac-afed-1079fdd5511d": {
       "attrs": {
        "height": 0.4,
        "width": 0.8,
        "x": 0.1,
        "y": 0.5
       },
       "content": {
        "cell": "0821b57f-3c5e-4d48-b6a0-63a56eab96ae",
        "part": "whole"
       },
       "id": "b55fa4b0-aafb-41ac-afed-1079fdd5511d"
      },
      "b6e10b82-2689-4a7b-a0b5-b2f638151aa1": {
       "attrs": {
        "height": 0.4,
        "width": 0.8,
        "x": 0.1,
        "y": 0.5
       },
       "content": {
        "cell": "7f3768e7-996b-481b-81c0-9037ee2cce9f",
        "part": "whole"
       },
       "id": "b6e10b82-2689-4a7b-a0b5-b2f638151aa1"
      },
      "bdab79f6-3e7b-41e8-9082-af5a5c0f62b7": {
       "attrs": {
        "height": 0.4,
        "width": 0.8,
        "x": 0.1,
        "y": 0.5
       },
       "content": {
        "cell": "569e0a3c-e215-4e2b-8305-545ec275c89e",
        "part": "whole"
       },
       "id": "bdab79f6-3e7b-41e8-9082-af5a5c0f62b7"
      },
      "c1930c9b-b003-4451-9e54-be09c0a15038": {
       "attrs": {
        "height": 0.4,
        "width": 0.8,
        "x": 0.1,
        "y": 0.5
       },
       "content": {
        "cell": "50115c00-312d-4490-ab4e-97ef5b40c3f6",
        "part": "whole"
       },
       "id": "c1930c9b-b003-4451-9e54-be09c0a15038"
      },
      "c228b9b6-d391-4327-94b9-4f937458ebb7": {
       "attrs": {
        "height": 0.4,
        "width": 0.8,
        "x": 0.1,
        "y": 0.5
       },
       "content": {
        "cell": "041ecbc4-e0fe-4d9c-88b8-a82dc1228b1b",
        "part": "whole"
       },
       "id": "c228b9b6-d391-4327-94b9-4f937458ebb7"
      },
      "c5957c13-63cf-464f-b5c5-0edffd45302e": {
       "attrs": {
        "height": 0.4,
        "width": 0.8,
        "x": 0.1,
        "y": 0.5
       },
       "content": {
        "cell": "8611e6da-e3a7-4bec-aa12-15396137b393",
        "part": "whole"
       },
       "id": "c5957c13-63cf-464f-b5c5-0edffd45302e"
      },
      "c8739446-1d36-4525-bbdc-4c71277324a7": {
       "attrs": {
        "height": 0.4,
        "width": 0.8,
        "x": 0.1,
        "y": 0.5
       },
       "content": {
        "cell": "7d965f93-5786-413e-9a9f-9013a60889ea",
        "part": "whole"
       },
       "id": "c8739446-1d36-4525-bbdc-4c71277324a7"
      },
      "c9d56e91-54ec-4ea9-90df-2ee59f2dfee4": {
       "attrs": {
        "height": 0.4,
        "width": 0.8,
        "x": 0.1,
        "y": 0.5
       },
       "content": {
        "cell": "f9b5b980-f9b4-4946-bf63-8ec13680bccb",
        "part": "whole"
       },
       "id": "c9d56e91-54ec-4ea9-90df-2ee59f2dfee4"
      },
      "ca96f289-4d4c-4dae-a568-25552b1a9687": {
       "attrs": {
        "height": 0.4,
        "width": 0.8,
        "x": 0.1,
        "y": 0.5
       },
       "content": {
        "cell": "ba8b0f6c-124d-4898-a811-c5c9d9d849ea",
        "part": "whole"
       },
       "id": "ca96f289-4d4c-4dae-a568-25552b1a9687"
      },
      "d330a121-adf4-4d64-a4e3-a0c6def2293b": {
       "attrs": {
        "height": 0.4,
        "width": 0.8,
        "x": 0.1,
        "y": 0.5
       },
       "content": {
        "cell": "eb05b535-0ae1-4247-bcca-edba455dec8c",
        "part": "whole"
       },
       "id": "d330a121-adf4-4d64-a4e3-a0c6def2293b"
      },
      "d4d71355-c922-4267-9b96-1932e854e88a": {
       "attrs": {
        "height": 0.4,
        "width": 0.8,
        "x": 0.1,
        "y": 0.5
       },
       "content": {
        "cell": "0710e3a1-0786-4753-807d-42962ba9d322",
        "part": "whole"
       },
       "id": "d4d71355-c922-4267-9b96-1932e854e88a"
      },
      "d8fb016e-0032-4ff9-883e-af1a53df083c": {
       "attrs": {
        "height": 0.4,
        "width": 0.8,
        "x": 0.1,
        "y": 0.5
       },
       "content": {
        "cell": "12acf818-3973-4eeb-9f3b-28b3f1719c84",
        "part": "whole"
       },
       "id": "d8fb016e-0032-4ff9-883e-af1a53df083c"
      },
      "de2f604d-6d49-44bd-ad00-54cbc1ab1eb0": {
       "attrs": {
        "height": 0.4,
        "width": 0.8,
        "x": 0.1,
        "y": 0.5
       },
       "content": {
        "cell": "da7f1eb2-4b58-4476-8392-2f810f98f5bb",
        "part": "whole"
       },
       "id": "de2f604d-6d49-44bd-ad00-54cbc1ab1eb0"
      },
      "e0d1c751-ddc9-48c3-b7fb-7f986cddfebb": {
       "attrs": {
        "height": 0.8,
        "width": 0.8,
        "x": 0.1,
        "y": 0.1
       },
       "content": {
        "cell": "7f9caff4-14cb-4112-9989-c715579170d9",
        "part": "whole"
       },
       "id": "e0d1c751-ddc9-48c3-b7fb-7f986cddfebb"
      },
      "e1eed965-7398-4bc5-8c73-a874cbee4931": {
       "attrs": {
        "height": 0.4,
        "width": 0.8,
        "x": 0.1,
        "y": 0.5
       },
       "content": {
        "cell": "4b408f2a-f59c-4901-9a82-ffb0f31e7f68",
        "part": "whole"
       },
       "id": "e1eed965-7398-4bc5-8c73-a874cbee4931"
      },
      "e84f16ee-57db-454b-95ac-7bab3f371502": {
       "attrs": {
        "height": 0.4,
        "width": 0.8,
        "x": 0.1,
        "y": 0.5
       },
       "content": {
        "cell": "2eaf358c-63f9-4e51-aab8-27540d851a02",
        "part": "whole"
       },
       "id": "e84f16ee-57db-454b-95ac-7bab3f371502"
      },
      "eb93f642-b7e3-425f-80fb-d1c6109d95c3": {
       "attrs": {
        "height": 0.4,
        "width": 0.8,
        "x": 0.1,
        "y": 0.5
       },
       "content": {
        "cell": "e1ee8469-f347-441e-98cb-9a3882ba789f",
        "part": "whole"
       },
       "id": "eb93f642-b7e3-425f-80fb-d1c6109d95c3"
      },
      "f4ac8451-4ba3-44e1-8d02-4a02fac20d67": {
       "attrs": {
        "height": 0.4,
        "width": 0.8,
        "x": 0.1,
        "y": 0.5
       },
       "content": {
        "cell": "f3d30979-34ab-4d63-ab14-d34224dc5125",
        "part": "whole"
       },
       "id": "f4ac8451-4ba3-44e1-8d02-4a02fac20d67"
      }
     }
    }
   },
   "themes": {}
  }
 },
 "nbformat": 4,
 "nbformat_minor": 1
}
